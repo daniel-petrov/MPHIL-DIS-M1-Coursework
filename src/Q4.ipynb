{
 "cells": [
  {
   "cell_type": "code",
   "execution_count": 1,
   "metadata": {},
   "outputs": [],
   "source": [
    "import numpy as np\n",
    "import pandas as pd\n",
    "import matplotlib.pyplot as plt"
   ]
  },
  {
   "cell_type": "markdown",
   "metadata": {},
   "source": [
    "### Baseline Dataset: Supervised Learning and Random Forests"
   ]
  },
  {
   "cell_type": "markdown",
   "metadata": {},
   "source": [
    "(a) Briefly describe the differences between a decision tree, bagging and a random forest (for classification). Describe one criterion you can use to measure the quality of a split within a classification tree. Identify two hyperparameters of a single tree within a random forest, and relate one of these to a heuristic involving the number of features."
   ]
  },
  {
   "cell_type": "markdown",
   "metadata": {},
   "source": [
    "**Decision Tree**\\\n",
    "A descision tree is a non-parametric supervised learning model that uses the features to make splits to the data to produce regions that are as pure as possible (i.e. all the data points in a region are of the same class).\n",
    "\n",
    "**Bagging**\\\n",
    "Bagging (bootstrap aggregating) is a general-purpose technique to reduce the variance of a learning method by training multiple models on different subsets of the data, then combining the results.\n",
    "\n",
    "**Random Forest**\\\n",
    "A random forest is a collection of decision trees, where each tree is trained on a different subset of the data. Furthermore, at each split, only a subset of the features are considered, which introduces variability between the trees in the forest and is the difference between bagging and random forests.\n",
    "\n",
    "**Criterion**\\\n",
    "One criterion to measure the quality of a split is the Gini impurity, which is defined as:\n",
    "$$\n",
    "G(Q_m)=1-\\sum_{k=1}^{K}p_{mk}^2\n",
    "$$\n",
    "where $K$ is the number of classes, $Q_m$ is the data at node $m$ with $n_m$ samples and $p_{mk}$ is the proportion of training samples in region $m$ that are of class $k$:\n",
    "$$\n",
    "p_{mk}=\\frac{1}{n_m}\\sum_{y_i\\in Q_m}I(y_i=k)\n",
    "$$\n",
    "where $I$ is the indicator function.\\\n",
    "The Gini impurity is a measure of purity of a node ranging between 0 and 1, where 0 means that all the samples at the node are of the same class and 1 means that the samples are from equally distributed amongst different classes.\n",
    "\n",
    "**Hyperparameters**\\\n",
    "Two hyperparameters of a single tree within a random forest are the maximum depth of the tree and the maximum number of features to consider when performing a split. A heuristic to determine the value of `max_features` to use for a model is by taking the square root of the total number of features."
   ]
  },
  {
   "cell_type": "markdown",
   "metadata": {},
   "source": [
    "(b) Pre-process and filter the data in preparation for the classifier. In your report, explain how you have pre-processed the data and justify any steps you have taken."
   ]
  },
  {
   "cell_type": "code",
   "execution_count": 2,
   "metadata": {},
   "outputs": [
    {
     "data": {
      "text/html": [
       "<div>\n",
       "<style scoped>\n",
       "    .dataframe tbody tr th:only-of-type {\n",
       "        vertical-align: middle;\n",
       "    }\n",
       "\n",
       "    .dataframe tbody tr th {\n",
       "        vertical-align: top;\n",
       "    }\n",
       "\n",
       "    .dataframe thead th {\n",
       "        text-align: right;\n",
       "    }\n",
       "</style>\n",
       "<table border=\"1\" class=\"dataframe\">\n",
       "  <thead>\n",
       "    <tr style=\"text-align: right;\">\n",
       "      <th></th>\n",
       "      <th>Fea1</th>\n",
       "      <th>Fea2</th>\n",
       "      <th>Fea3</th>\n",
       "      <th>Fea4</th>\n",
       "      <th>Fea5</th>\n",
       "      <th>Fea6</th>\n",
       "      <th>Fea7</th>\n",
       "      <th>Fea8</th>\n",
       "      <th>Fea9</th>\n",
       "      <th>Fea10</th>\n",
       "      <th>...</th>\n",
       "      <th>Fea992</th>\n",
       "      <th>Fea993</th>\n",
       "      <th>Fea994</th>\n",
       "      <th>Fea995</th>\n",
       "      <th>Fea996</th>\n",
       "      <th>Fea997</th>\n",
       "      <th>Fea998</th>\n",
       "      <th>Fea999</th>\n",
       "      <th>Fea1000</th>\n",
       "      <th>type</th>\n",
       "    </tr>\n",
       "  </thead>\n",
       "  <tbody>\n",
       "    <tr>\n",
       "      <th>Sample1</th>\n",
       "      <td>0.0</td>\n",
       "      <td>1.386294</td>\n",
       "      <td>0.0</td>\n",
       "      <td>0.0</td>\n",
       "      <td>2.639057</td>\n",
       "      <td>0.0</td>\n",
       "      <td>2.944439</td>\n",
       "      <td>0.0</td>\n",
       "      <td>1.098612</td>\n",
       "      <td>0.0</td>\n",
       "      <td>...</td>\n",
       "      <td>2.302585</td>\n",
       "      <td>0.0</td>\n",
       "      <td>1.098612</td>\n",
       "      <td>0.0</td>\n",
       "      <td>0.00000</td>\n",
       "      <td>0.000000</td>\n",
       "      <td>3.496508</td>\n",
       "      <td>0.0</td>\n",
       "      <td>0.000000</td>\n",
       "      <td>2</td>\n",
       "    </tr>\n",
       "    <tr>\n",
       "      <th>Sample2</th>\n",
       "      <td>0.0</td>\n",
       "      <td>0.693147</td>\n",
       "      <td>0.0</td>\n",
       "      <td>0.0</td>\n",
       "      <td>1.791759</td>\n",
       "      <td>0.0</td>\n",
       "      <td>2.833213</td>\n",
       "      <td>0.0</td>\n",
       "      <td>0.000000</td>\n",
       "      <td>0.0</td>\n",
       "      <td>...</td>\n",
       "      <td>0.000000</td>\n",
       "      <td>0.0</td>\n",
       "      <td>0.000000</td>\n",
       "      <td>0.0</td>\n",
       "      <td>0.00000</td>\n",
       "      <td>2.484907</td>\n",
       "      <td>3.218876</td>\n",
       "      <td>0.0</td>\n",
       "      <td>0.000000</td>\n",
       "      <td>1</td>\n",
       "    </tr>\n",
       "    <tr>\n",
       "      <th>Sample3</th>\n",
       "      <td>0.0</td>\n",
       "      <td>3.891820</td>\n",
       "      <td>0.0</td>\n",
       "      <td>0.0</td>\n",
       "      <td>3.367296</td>\n",
       "      <td>0.0</td>\n",
       "      <td>2.833213</td>\n",
       "      <td>0.0</td>\n",
       "      <td>0.000000</td>\n",
       "      <td>0.0</td>\n",
       "      <td>...</td>\n",
       "      <td>2.302585</td>\n",
       "      <td>0.0</td>\n",
       "      <td>0.000000</td>\n",
       "      <td>0.0</td>\n",
       "      <td>0.00000</td>\n",
       "      <td>3.526361</td>\n",
       "      <td>4.454347</td>\n",
       "      <td>0.0</td>\n",
       "      <td>2.484907</td>\n",
       "      <td>2</td>\n",
       "    </tr>\n",
       "    <tr>\n",
       "      <th>Sample4</th>\n",
       "      <td>0.0</td>\n",
       "      <td>3.828641</td>\n",
       "      <td>0.0</td>\n",
       "      <td>0.0</td>\n",
       "      <td>0.000000</td>\n",
       "      <td>0.0</td>\n",
       "      <td>1.945910</td>\n",
       "      <td>0.0</td>\n",
       "      <td>3.401197</td>\n",
       "      <td>0.0</td>\n",
       "      <td>...</td>\n",
       "      <td>0.000000</td>\n",
       "      <td>0.0</td>\n",
       "      <td>2.079442</td>\n",
       "      <td>0.0</td>\n",
       "      <td>1.94591</td>\n",
       "      <td>1.791759</td>\n",
       "      <td>4.406719</td>\n",
       "      <td>0.0</td>\n",
       "      <td>2.772589</td>\n",
       "      <td>3</td>\n",
       "    </tr>\n",
       "    <tr>\n",
       "      <th>Sample5</th>\n",
       "      <td>0.0</td>\n",
       "      <td>3.258097</td>\n",
       "      <td>0.0</td>\n",
       "      <td>0.0</td>\n",
       "      <td>1.098612</td>\n",
       "      <td>0.0</td>\n",
       "      <td>2.397895</td>\n",
       "      <td>0.0</td>\n",
       "      <td>0.000000</td>\n",
       "      <td>0.0</td>\n",
       "      <td>...</td>\n",
       "      <td>0.000000</td>\n",
       "      <td>0.0</td>\n",
       "      <td>0.000000</td>\n",
       "      <td>0.0</td>\n",
       "      <td>1.94591</td>\n",
       "      <td>1.098612</td>\n",
       "      <td>2.772589</td>\n",
       "      <td>0.0</td>\n",
       "      <td>1.945910</td>\n",
       "      <td>1</td>\n",
       "    </tr>\n",
       "  </tbody>\n",
       "</table>\n",
       "<p>5 rows × 1001 columns</p>\n",
       "</div>"
      ],
      "text/plain": [
       "         Fea1      Fea2  Fea3  Fea4      Fea5  Fea6      Fea7  Fea8      Fea9  \\\n",
       "Sample1   0.0  1.386294   0.0   0.0  2.639057   0.0  2.944439   0.0  1.098612   \n",
       "Sample2   0.0  0.693147   0.0   0.0  1.791759   0.0  2.833213   0.0  0.000000   \n",
       "Sample3   0.0  3.891820   0.0   0.0  3.367296   0.0  2.833213   0.0  0.000000   \n",
       "Sample4   0.0  3.828641   0.0   0.0  0.000000   0.0  1.945910   0.0  3.401197   \n",
       "Sample5   0.0  3.258097   0.0   0.0  1.098612   0.0  2.397895   0.0  0.000000   \n",
       "\n",
       "         Fea10  ...    Fea992  Fea993    Fea994  Fea995   Fea996    Fea997  \\\n",
       "Sample1    0.0  ...  2.302585     0.0  1.098612     0.0  0.00000  0.000000   \n",
       "Sample2    0.0  ...  0.000000     0.0  0.000000     0.0  0.00000  2.484907   \n",
       "Sample3    0.0  ...  2.302585     0.0  0.000000     0.0  0.00000  3.526361   \n",
       "Sample4    0.0  ...  0.000000     0.0  2.079442     0.0  1.94591  1.791759   \n",
       "Sample5    0.0  ...  0.000000     0.0  0.000000     0.0  1.94591  1.098612   \n",
       "\n",
       "           Fea998  Fea999   Fea1000  type  \n",
       "Sample1  3.496508     0.0  0.000000     2  \n",
       "Sample2  3.218876     0.0  0.000000     1  \n",
       "Sample3  4.454347     0.0  2.484907     2  \n",
       "Sample4  4.406719     0.0  2.772589     3  \n",
       "Sample5  2.772589     0.0  1.945910     1  \n",
       "\n",
       "[5 rows x 1001 columns]"
      ]
     },
     "execution_count": 2,
     "metadata": {},
     "output_type": "execute_result"
    }
   ],
   "source": [
    "df = pd.read_csv('../Data/ADS_baselineDataset.csv', index_col=0)\n",
    "df.head()"
   ]
  },
  {
   "cell_type": "code",
   "execution_count": 3,
   "metadata": {},
   "outputs": [
    {
     "data": {
      "text/plain": [
       "0"
      ]
     },
     "execution_count": 3,
     "metadata": {},
     "output_type": "execute_result"
    }
   ],
   "source": [
    "# check for missing values\n",
    "df.isnull().sum().sum()"
   ]
  },
  {
   "cell_type": "code",
   "execution_count": 4,
   "metadata": {},
   "outputs": [
    {
     "data": {
      "text/plain": [
       "0"
      ]
     },
     "execution_count": 4,
     "metadata": {},
     "output_type": "execute_result"
    }
   ],
   "source": [
    "# check for duplicates\n",
    "df.duplicated().sum()"
   ]
  },
  {
   "cell_type": "code",
   "execution_count": 5,
   "metadata": {},
   "outputs": [
    {
     "data": {
      "text/plain": [
       "0"
      ]
     },
     "execution_count": 5,
     "metadata": {},
     "output_type": "execute_result"
    }
   ],
   "source": [
    "df.iloc[:, :-1].duplicated().sum()"
   ]
  },
  {
   "cell_type": "code",
   "execution_count": 6,
   "metadata": {},
   "outputs": [
    {
     "data": {
      "text/plain": [
       "Sample1      19\n",
       "Sample2       9\n",
       "Sample3       7\n",
       "Sample4      13\n",
       "Sample5       7\n",
       "             ..\n",
       "Sample496    18\n",
       "Sample497    16\n",
       "Sample498    15\n",
       "Sample499    27\n",
       "Sample500    10\n",
       "Length: 500, dtype: int64"
      ]
     },
     "execution_count": 6,
     "metadata": {},
     "output_type": "execute_result"
    }
   ],
   "source": [
    "# check for outliers\n",
    "z_scores = (df - df.mean()) / df.std()\n",
    "threshold = 3\n",
    "outliers = z_scores.abs() > threshold\n",
    "\n",
    "mask = outliers.any(axis=1) > 0\n",
    "outliers.sum(axis=1)[mask]"
   ]
  },
  {
   "cell_type": "code",
   "execution_count": 7,
   "metadata": {},
   "outputs": [
    {
     "data": {
      "text/plain": [
       "Fea1       4\n",
       "Fea3       6\n",
       "Fea4       1\n",
       "Fea6       3\n",
       "Fea8       7\n",
       "          ..\n",
       "Fea992     1\n",
       "Fea993     7\n",
       "Fea995     4\n",
       "Fea998    20\n",
       "Fea999     2\n",
       "Length: 728, dtype: int64"
      ]
     },
     "execution_count": 7,
     "metadata": {},
     "output_type": "execute_result"
    }
   ],
   "source": [
    "mask = outliers.sum(axis=0) > 0\n",
    "outliers.sum(axis=0)[mask]"
   ]
  },
  {
   "cell_type": "code",
   "execution_count": 8,
   "metadata": {},
   "outputs": [
    {
     "name": "stdout",
     "output_type": "stream",
     "text": [
      "Number of outliers: 6689\n",
      "Proportion of outliers in data: 1.3365%\n"
     ]
    }
   ],
   "source": [
    "print(f'Number of outliers: {outliers.sum().sum()}')\n",
    "print(f'Proportion of outliers in data: {outliers.sum().sum() / outliers.size:.4%}')"
   ]
  },
  {
   "cell_type": "code",
   "execution_count": 9,
   "metadata": {},
   "outputs": [
    {
     "data": {
      "image/png": "[encoded data removed]",
      "text/plain": [
       "<Figure size 800x800 with 1 Axes>"
      ]
     },
     "metadata": {},
     "output_type": "display_data"
    }
   ],
   "source": [
    "# visualise outliers\n",
    "fig, ax = plt.subplots(figsize=(8, 8))\n",
    "plt.imshow(outliers, cmap='gray', interpolation='none')\n",
    "plt.xticks([])\n",
    "plt.yticks([])\n",
    "plt.xlabel('Features')\n",
    "plt.ylabel('Observations')\n",
    "plt.title('Outliers')\n",
    "plt.savefig('../Plots/Q4b_outliers.png', dpi=300, bbox_inches='tight')\n",
    "plt.show()"
   ]
  },
  {
   "cell_type": "markdown",
   "metadata": {},
   "source": [
    "Deal with outliers:\n",
    "1. Split into training and test sets (to avoid data leakage)\n",
    "2. Identify outliers in each, replace with nan\n",
    "3. Model-based imputation in train set. Use same model (without retraining) for test set."
   ]
  },
  {
   "cell_type": "code",
   "execution_count": 10,
   "metadata": {},
   "outputs": [],
   "source": [
    "from sklearn.model_selection import train_test_split\n",
    "\n",
    "X = df.drop('type', axis=1)\n",
    "y = df['type']\n",
    "# stratify to ensure same proportion of classes in train and test sets\n",
    "X_train, X_test, y_train, y_test = train_test_split(X, y, test_size=0.2, random_state=42, stratify=y)"
   ]
  },
  {
   "cell_type": "code",
   "execution_count": 11,
   "metadata": {},
   "outputs": [
    {
     "name": "stdout",
     "output_type": "stream",
     "text": [
      "Number of outliers found: 5261\n",
      "Proportion of outliers in set: 1.3153%\n",
      "Number of outliers found: 1276\n",
      "Proportion of outliers in set: 1.2760%\n"
     ]
    }
   ],
   "source": [
    "# Identify and remove outliers\n",
    "def remove_outliers(df, threshold=3):\n",
    "    z_scores = (df - df.mean()) / df.std()\n",
    "    outliers = z_scores.abs() > threshold\n",
    "    print(f'Number of outliers found: {outliers.sum().sum()}')\n",
    "    print(f'Proportion of outliers in set: {outliers.sum().sum() / outliers.size:.4%}')\n",
    "    df[outliers] = np.nan\n",
    "\n",
    "remove_outliers(X_train)\n",
    "remove_outliers(X_test)"
   ]
  },
  {
   "cell_type": "code",
   "execution_count": 12,
   "metadata": {},
   "outputs": [
    {
     "name": "stdout",
     "output_type": "stream",
     "text": [
      "Imputer fitted in 26.71 seconds.\n",
      "Training set transformed in 19.53 seconds.\n",
      "Test set transformed in 3.02 seconds.\n"
     ]
    }
   ],
   "source": [
    "# Model-based imputation\n",
    "from sklearn.experimental import enable_iterative_imputer\n",
    "from sklearn.impute import IterativeImputer\n",
    "import time\n",
    "\n",
    "from sklearn.neighbors import KNeighborsRegressor\n",
    "\n",
    "# Default Bayesian Ridge Regression\n",
    "# imputer = IterativeImputer(random_state=42) # too long\n",
    "imputer = IterativeImputer(random_state=42, estimator=KNeighborsRegressor())\n",
    "\n",
    "print('Fitting imputer...', end='\\r')\n",
    "start = time.time()\n",
    "imputer.fit(X_train)\n",
    "print(f'Imputer fitted in {time.time() - start:.2f} seconds.')\n",
    "\n",
    "print(f'Transforming training set...', end='\\r')\n",
    "start = time.time()\n",
    "X_train = pd.DataFrame(imputer.transform(X_train), columns=X_train.columns)\n",
    "print(f'Training set transformed in {time.time() - start:.2f} seconds.')\n",
    "\n",
    "print(f'Transforming test set...', end='\\r')\n",
    "start = time.time()\n",
    "X_test = pd.DataFrame(imputer.transform(X_test), columns=X_test.columns)\n",
    "print(f'Test set transformed in {time.time() - start:.2f} seconds.')"
   ]
  },
  {
   "cell_type": "code",
   "execution_count": 13,
   "metadata": {},
   "outputs": [
    {
     "name": "stdout",
     "output_type": "stream",
     "text": [
      "Number of missing values in training set: 0\n",
      "Number of missing values in test set: 0\n"
     ]
    }
   ],
   "source": [
    "# check for missing values\n",
    "print(f'Number of missing values in training set: {X_train.isnull().sum().sum()}')\n",
    "print(f'Number of missing values in test set: {X_test.isnull().sum().sum()}')"
   ]
  },
  {
   "cell_type": "markdown",
   "metadata": {},
   "source": [
    "(c) Apply the classifier on training data using the default hyperparameters and summarise the output of the model. Evaluate the test set classification error."
   ]
  },
  {
   "cell_type": "code",
   "execution_count": 14,
   "metadata": {},
   "outputs": [
    {
     "name": "stdout",
     "output_type": "stream",
     "text": [
      "              precision    recall  f1-score   support\n",
      "\n",
      "           1       0.93      1.00      0.96        38\n",
      "           2       1.00      1.00      1.00        36\n",
      "           3       1.00      0.88      0.94        26\n",
      "\n",
      "    accuracy                           0.97       100\n",
      "   macro avg       0.98      0.96      0.97       100\n",
      "weighted avg       0.97      0.97      0.97       100\n",
      "\n"
     ]
    }
   ],
   "source": [
    "from sklearn.ensemble import RandomForestClassifier\n",
    "\n",
    "rfc = RandomForestClassifier(random_state=42)\n",
    "rfc.fit(X_train, y_train)\n",
    "\n",
    "# summarise output of model\n",
    "from sklearn.metrics import classification_report\n",
    "\n",
    "y_pred = rfc.predict(X_test)\n",
    "print(classification_report(y_test, y_pred))"
   ]
  },
  {
   "cell_type": "code",
   "execution_count": 15,
   "metadata": {},
   "outputs": [
    {
     "name": "stdout",
     "output_type": "stream",
     "text": [
      "Test set accuracy: 0.9700\n",
      "[[38  0  0]\n",
      " [ 0 36  0]\n",
      " [ 3  0 23]]\n"
     ]
    }
   ],
   "source": [
    "# evaluate test set classification error\n",
    "from sklearn.metrics import accuracy_score\n",
    "from sklearn.metrics import confusion_matrix\n",
    "\n",
    "print(f'Test set accuracy: {accuracy_score(y_test, y_pred):.4f}')\n",
    "\n",
    "# confusion matrix with labels\n",
    "cm = confusion_matrix(y_test, y_pred, labels=[1,2,3])\n",
    "print(cm)"
   ]
  },
  {
   "cell_type": "markdown",
   "metadata": {},
   "source": [
    "(d) Optimise the algorithm with respect to the number of trees in the random forest. You should be able to do this without explicitly performing cross-validation."
   ]
  },
  {
   "cell_type": "markdown",
   "metadata": {},
   "source": [
    "NOTE: Not clear what is meant by \"without explicitly performing cross-validation\"."
   ]
  },
  {
   "cell_type": "code",
   "execution_count": 16,
   "metadata": {},
   "outputs": [
    {
     "data": {
      "image/png": "[encoded data removed]",
      "text/plain": [
       "<Figure size 800x600 with 1 Axes>"
      ]
     },
     "metadata": {},
     "output_type": "display_data"
    }
   ],
   "source": [
    "from sklearn.model_selection import validation_curve\n",
    "\n",
    "# calculate and plot validation curve\n",
    "param_range = np.linspace(1, 800, 100, dtype=int)\n",
    "train_scores, test_scores = validation_curve(\n",
    "    rfc, X_train, y_train, param_name='n_estimators', param_range=param_range, \n",
    "    cv=5, scoring='accuracy', n_jobs=-1)\n",
    "\n",
    "plt.figure(figsize=(8, 6))\n",
    "plt.plot(param_range, train_scores.mean(axis=1), label='Training score')\n",
    "plt.plot(param_range, test_scores.mean(axis=1), label='Validation score')\n",
    "plt.xlabel('Number of trees')\n",
    "plt.ylabel('Accuracy score')\n",
    "plt.title('Validation curve')\n",
    "plt.legend()\n",
    "plt.grid(True)\n",
    "plt.savefig('../Plots/Q4d_validation_curve.png', dpi=300, bbox_inches='tight')\n",
    "plt.show()"
   ]
  },
  {
   "cell_type": "markdown",
   "metadata": {},
   "source": [
    "Use around 300 trees"
   ]
  },
  {
   "cell_type": "markdown",
   "metadata": {},
   "source": [
    "(e) Calculate the feature importance. In your report, describe and interpret the feature importance. Retrain the model using a subset of the most important features. In your report, indicate which features you have chosen and compare the retrained classifier with the original classifier."
   ]
  },
  {
   "cell_type": "code",
   "execution_count": 17,
   "metadata": {},
   "outputs": [],
   "source": [
    "# Calculate feature importance\n",
    "rfc_original = RandomForestClassifier(n_estimators=300, random_state=42)\n",
    "rfc_original.fit(X_train, y_train)\n",
    "\n",
    "feature_importances = rfc_original.feature_importances_\n",
    "feature_importances = pd.Series(feature_importances, index=X_train.columns)\n",
    "feature_importances.sort_values(ascending=False, inplace=True)"
   ]
  },
  {
   "cell_type": "code",
   "execution_count": 18,
   "metadata": {},
   "outputs": [
    {
     "name": "stdout",
     "output_type": "stream",
     "text": [
      "Top 268 features sum to 0.9003\n",
      "Index(['Fea64', 'Fea70', 'Fea630', 'Fea36', 'Fea354', 'Fea222', 'Fea162',\n",
      "       'Fea795', 'Fea490', 'Fea673',\n",
      "       ...\n",
      "       'Fea221', 'Fea793', 'Fea711', 'Fea362', 'Fea467', 'Fea780', 'Fea90',\n",
      "       'Fea752', 'Fea670', 'Fea193'],\n",
      "      dtype='object', length=268)\n"
     ]
    }
   ],
   "source": [
    "# What is n so that top n features sum to 0.9?\n",
    "threshold = 0.9\n",
    "n = 0\n",
    "for i in range(len(feature_importances)):\n",
    "    if feature_importances.iloc[:i].sum() > threshold:\n",
    "        break\n",
    "    n += 1\n",
    "print(f'Top {n} features sum to {feature_importances.iloc[:n].sum():.4f}')\n",
    "\n",
    "most_important_features = feature_importances.iloc[:n].index\n",
    "print(most_important_features)"
   ]
  },
  {
   "cell_type": "code",
   "execution_count": 19,
   "metadata": {},
   "outputs": [
    {
     "data": {
      "text/html": [
       "<style>#sk-container-id-1 {color: black;}#sk-container-id-1 pre{padding: 0;}#sk-container-id-1 div.sk-toggleable {background-color: white;}#sk-container-id-1 label.sk-toggleable__label {cursor: pointer;display: block;width: 100%;margin-bottom: 0;padding: 0.3em;box-sizing: border-box;text-align: center;}#sk-container-id-1 label.sk-toggleable__label-arrow:before {content: \"▸\";float: left;margin-right: 0.25em;color: #696969;}#sk-container-id-1 label.sk-toggleable__label-arrow:hover:before {color: black;}#sk-container-id-1 div.sk-estimator:hover label.sk-toggleable__label-arrow:before {color: black;}#sk-container-id-1 div.sk-toggleable__content {max-height: 0;max-width: 0;overflow: hidden;text-align: left;background-color: #f0f8ff;}#sk-container-id-1 div.sk-toggleable__content pre {margin: 0.2em;color: black;border-radius: 0.25em;background-color: #f0f8ff;}#sk-container-id-1 input.sk-toggleable__control:checked~div.sk-toggleable__content {max-height: 200px;max-width: 100%;overflow: auto;}#sk-container-id-1 input.sk-toggleable__control:checked~label.sk-toggleable__label-arrow:before {content: \"▾\";}#sk-container-id-1 div.sk-estimator input.sk-toggleable__control:checked~label.sk-toggleable__label {background-color: #d4ebff;}#sk-container-id-1 div.sk-label input.sk-toggleable__control:checked~label.sk-toggleable__label {background-color: #d4ebff;}#sk-container-id-1 input.sk-hidden--visually {border: 0;clip: rect(1px 1px 1px 1px);clip: rect(1px, 1px, 1px, 1px);height: 1px;margin: -1px;overflow: hidden;padding: 0;position: absolute;width: 1px;}#sk-container-id-1 div.sk-estimator {font-family: monospace;background-color: #f0f8ff;border: 1px dotted black;border-radius: 0.25em;box-sizing: border-box;margin-bottom: 0.5em;}#sk-container-id-1 div.sk-estimator:hover {background-color: #d4ebff;}#sk-container-id-1 div.sk-parallel-item::after {content: \"\";width: 100%;border-bottom: 1px solid gray;flex-grow: 1;}#sk-container-id-1 div.sk-label:hover label.sk-toggleable__label {background-color: #d4ebff;}#sk-container-id-1 div.sk-serial::before {content: \"\";position: absolute;border-left: 1px solid gray;box-sizing: border-box;top: 0;bottom: 0;left: 50%;z-index: 0;}#sk-container-id-1 div.sk-serial {display: flex;flex-direction: column;align-items: center;background-color: white;padding-right: 0.2em;padding-left: 0.2em;position: relative;}#sk-container-id-1 div.sk-item {position: relative;z-index: 1;}#sk-container-id-1 div.sk-parallel {display: flex;align-items: stretch;justify-content: center;background-color: white;position: relative;}#sk-container-id-1 div.sk-item::before, #sk-container-id-1 div.sk-parallel-item::before {content: \"\";position: absolute;border-left: 1px solid gray;box-sizing: border-box;top: 0;bottom: 0;left: 50%;z-index: -1;}#sk-container-id-1 div.sk-parallel-item {display: flex;flex-direction: column;z-index: 1;position: relative;background-color: white;}#sk-container-id-1 div.sk-parallel-item:first-child::after {align-self: flex-end;width: 50%;}#sk-container-id-1 div.sk-parallel-item:last-child::after {align-self: flex-start;width: 50%;}#sk-container-id-1 div.sk-parallel-item:only-child::after {width: 0;}#sk-container-id-1 div.sk-dashed-wrapped {border: 1px dashed gray;margin: 0 0.4em 0.5em 0.4em;box-sizing: border-box;padding-bottom: 0.4em;background-color: white;}#sk-container-id-1 div.sk-label label {font-family: monospace;font-weight: bold;display: inline-block;line-height: 1.2em;}#sk-container-id-1 div.sk-label-container {text-align: center;}#sk-container-id-1 div.sk-container {/* jupyter's `normalize.less` sets `[hidden] { display: none; }` but bootstrap.min.css set `[hidden] { display: none !important; }` so we also need the `!important` here to be able to override the default hidden behavior on the sphinx rendered scikit-learn.org. See: https://github.com/scikit-learn/scikit-learn/issues/21755 */display: inline-block !important;position: relative;}#sk-container-id-1 div.sk-text-repr-fallback {display: none;}</style><div id=\"sk-container-id-1\" class=\"sk-top-container\"><div class=\"sk-text-repr-fallback\"><pre>RandomForestClassifier(n_estimators=300, random_state=42)</pre><b>In a Jupyter environment, please rerun this cell to show the HTML representation or trust the notebook. <br />On GitHub, the HTML representation is unable to render, please try loading this page with nbviewer.org.</b></div><div class=\"sk-container\" hidden><div class=\"sk-item\"><div class=\"sk-estimator sk-toggleable\"><input class=\"sk-toggleable__control sk-hidden--visually\" id=\"sk-estimator-id-1\" type=\"checkbox\" checked><label for=\"sk-estimator-id-1\" class=\"sk-toggleable__label sk-toggleable__label-arrow\">RandomForestClassifier</label><div class=\"sk-toggleable__content\"><pre>RandomForestClassifier(n_estimators=300, random_state=42)</pre></div></div></div></div></div>"
      ],
      "text/plain": [
       "RandomForestClassifier(n_estimators=300, random_state=42)"
      ]
     },
     "execution_count": 19,
     "metadata": {},
     "output_type": "execute_result"
    }
   ],
   "source": [
    "# Retrain model using subset of most important features\n",
    "X_train_subset = X_train[most_important_features]\n",
    "\n",
    "rfc_retrained = RandomForestClassifier(n_estimators=300, random_state=42)\n",
    "rfc_retrained.fit(X_train_subset, y_train)"
   ]
  },
  {
   "cell_type": "code",
   "execution_count": 20,
   "metadata": {},
   "outputs": [
    {
     "name": "stdout",
     "output_type": "stream",
     "text": [
      "Original classifier accuracy: 0.9400\n",
      "Retrained classifier accuracy: 0.9400\n",
      "\n",
      "Confusion matrix from original model:\n",
      "[[38  0  0]\n",
      " [ 0 36  0]\n",
      " [ 6  0 20]]\n",
      "Confusion matrix from retrained model:\n",
      "[[37  0  1]\n",
      " [ 1 35  0]\n",
      " [ 4  0 22]]\n"
     ]
    }
   ],
   "source": [
    "# Compare retrained classifier with original classifier\n",
    "y_pred_original = rfc_original.predict(X_test)\n",
    "y_pred_retrained = rfc_retrained.predict(X_test[most_important_features])\n",
    "\n",
    "# Accuracy\n",
    "print(f'Original classifier accuracy: {accuracy_score(y_test, y_pred_original):.4f}')\n",
    "print(f'Retrained classifier accuracy: {accuracy_score(y_test, y_pred_retrained):.4f}')\n",
    "print()\n",
    "\n",
    "# Confusion matrix\n",
    "cm_original = confusion_matrix(y_test, y_pred_original, labels=[1,2,3])\n",
    "cm_retrained = confusion_matrix(y_test, y_pred_retrained, labels=[1,2,3])\n",
    "print(f'Confusion matrix from original model:\\n{cm_original}')\n",
    "print(f'Confusion matrix from retrained model:\\n{cm_retrained}')"
   ]
  },
  {
   "cell_type": "markdown",
   "metadata": {},
   "source": [
    "(f) Repeat steps (b), (c), and (e) for one other supervised learning classifier. Compare and contrast the two classification approaches and your results for each."
   ]
  },
  {
   "cell_type": "code",
   "execution_count": 21,
   "metadata": {},
   "outputs": [
    {
     "name": "stdout",
     "output_type": "stream",
     "text": [
      "              precision    recall  f1-score   support\n",
      "\n",
      "           1       0.82      0.97      0.89        38\n",
      "           2       1.00      0.81      0.89        36\n",
      "           3       0.88      0.88      0.88        26\n",
      "\n",
      "    accuracy                           0.89       100\n",
      "   macro avg       0.90      0.89      0.89       100\n",
      "weighted avg       0.90      0.89      0.89       100\n",
      "\n",
      "Test set accuracy: 0.8900\n",
      "[[37  0  1]\n",
      " [ 5 29  2]\n",
      " [ 3  0 23]]\n"
     ]
    }
   ],
   "source": [
    "# Will use Support Vector Classifier (need to scale data)\n",
    "\n",
    "# Scale data\n",
    "from sklearn.preprocessing import StandardScaler\n",
    "\n",
    "scaler = StandardScaler()\n",
    "scaler.fit(X_train)\n",
    "X_train_scaled = scaler.transform(X_train)\n",
    "X_test_scaled = scaler.transform(X_test)\n",
    "\n",
    "# Convert to dataframe\n",
    "X_train_scaled = pd.DataFrame(X_train_scaled, columns=X_train.columns)\n",
    "X_test_scaled = pd.DataFrame(X_test_scaled, columns=X_test.columns)\n",
    "\n",
    "# Train classifier with default params\n",
    "from sklearn.svm import SVC\n",
    "\n",
    "svc = SVC(random_state=42)\n",
    "svc.fit(X_train_scaled, y_train)\n",
    "\n",
    "# Evaluate test set classification error\n",
    "y_pred = svc.predict(X_test_scaled)\n",
    "print(classification_report(y_test, y_pred))\n",
    "print(f'Test set accuracy: {accuracy_score(y_test, y_pred):.4f}')\n",
    "print(confusion_matrix(y_test, y_pred, labels=[1,2,3]))"
   ]
  },
  {
   "cell_type": "code",
   "execution_count": 22,
   "metadata": {},
   "outputs": [],
   "source": [
    "# Calculate feature importance\n",
    "from sklearn.inspection import permutation_importance\n",
    "\n",
    "result = permutation_importance(\n",
    "    svc, X_test_scaled, y_test, n_repeats=10, random_state=42, n_jobs=-1)"
   ]
  },
  {
   "cell_type": "code",
   "execution_count": 23,
   "metadata": {},
   "outputs": [],
   "source": [
    "features = X_test_scaled.columns\n",
    "feature_importances = pd.Series(result.importances_mean, index=features)\n",
    "feature_importances.sort_values(ascending=False, inplace=True)"
   ]
  },
  {
   "cell_type": "code",
   "execution_count": 24,
   "metadata": {},
   "outputs": [
    {
     "data": {
      "text/plain": [
       "Fea630    0.019\n",
       "Fea162    0.018\n",
       "Fea64     0.017\n",
       "Fea886    0.016\n",
       "Fea197    0.014\n",
       "          ...  \n",
       "Fea781   -0.010\n",
       "Fea301   -0.010\n",
       "Fea496   -0.010\n",
       "Fea219   -0.012\n",
       "Fea733   -0.020\n",
       "Length: 1000, dtype: float64"
      ]
     },
     "execution_count": 24,
     "metadata": {},
     "output_type": "execute_result"
    }
   ],
   "source": [
    "feature_importances"
   ]
  },
  {
   "cell_type": "code",
   "execution_count": 25,
   "metadata": {},
   "outputs": [
    {
     "name": "stdout",
     "output_type": "stream",
     "text": [
      "Top 208 features are positive.\n",
      "Index(['Fea630', 'Fea162', 'Fea64', 'Fea886', 'Fea197', 'Fea144', 'Fea633',\n",
      "       'Fea314', 'Fea591', 'Fea795',\n",
      "       ...\n",
      "       'Fea74', 'Fea887', 'Fea917', 'Fea171', 'Fea159', 'Fea111', 'Fea101',\n",
      "       'Fea926', 'Fea851', 'Fea138'],\n",
      "      dtype='object', length=208)\n"
     ]
    }
   ],
   "source": [
    "n = 0\n",
    "for i in range(len(feature_importances)):\n",
    "    if feature_importances.iloc[i].sum() <= 1e-5:\n",
    "        break\n",
    "    n += 1\n",
    "print(f'Top {n} features are positive.')\n",
    "\n",
    "most_important_features = feature_importances.iloc[:n].index\n",
    "print(most_important_features)"
   ]
  },
  {
   "cell_type": "code",
   "execution_count": 26,
   "metadata": {},
   "outputs": [
    {
     "data": {
      "text/html": [
       "<style>#sk-container-id-2 {color: black;}#sk-container-id-2 pre{padding: 0;}#sk-container-id-2 div.sk-toggleable {background-color: white;}#sk-container-id-2 label.sk-toggleable__label {cursor: pointer;display: block;width: 100%;margin-bottom: 0;padding: 0.3em;box-sizing: border-box;text-align: center;}#sk-container-id-2 label.sk-toggleable__label-arrow:before {content: \"▸\";float: left;margin-right: 0.25em;color: #696969;}#sk-container-id-2 label.sk-toggleable__label-arrow:hover:before {color: black;}#sk-container-id-2 div.sk-estimator:hover label.sk-toggleable__label-arrow:before {color: black;}#sk-container-id-2 div.sk-toggleable__content {max-height: 0;max-width: 0;overflow: hidden;text-align: left;background-color: #f0f8ff;}#sk-container-id-2 div.sk-toggleable__content pre {margin: 0.2em;color: black;border-radius: 0.25em;background-color: #f0f8ff;}#sk-container-id-2 input.sk-toggleable__control:checked~div.sk-toggleable__content {max-height: 200px;max-width: 100%;overflow: auto;}#sk-container-id-2 input.sk-toggleable__control:checked~label.sk-toggleable__label-arrow:before {content: \"▾\";}#sk-container-id-2 div.sk-estimator input.sk-toggleable__control:checked~label.sk-toggleable__label {background-color: #d4ebff;}#sk-container-id-2 div.sk-label input.sk-toggleable__control:checked~label.sk-toggleable__label {background-color: #d4ebff;}#sk-container-id-2 input.sk-hidden--visually {border: 0;clip: rect(1px 1px 1px 1px);clip: rect(1px, 1px, 1px, 1px);height: 1px;margin: -1px;overflow: hidden;padding: 0;position: absolute;width: 1px;}#sk-container-id-2 div.sk-estimator {font-family: monospace;background-color: #f0f8ff;border: 1px dotted black;border-radius: 0.25em;box-sizing: border-box;margin-bottom: 0.5em;}#sk-container-id-2 div.sk-estimator:hover {background-color: #d4ebff;}#sk-container-id-2 div.sk-parallel-item::after {content: \"\";width: 100%;border-bottom: 1px solid gray;flex-grow: 1;}#sk-container-id-2 div.sk-label:hover label.sk-toggleable__label {background-color: #d4ebff;}#sk-container-id-2 div.sk-serial::before {content: \"\";position: absolute;border-left: 1px solid gray;box-sizing: border-box;top: 0;bottom: 0;left: 50%;z-index: 0;}#sk-container-id-2 div.sk-serial {display: flex;flex-direction: column;align-items: center;background-color: white;padding-right: 0.2em;padding-left: 0.2em;position: relative;}#sk-container-id-2 div.sk-item {position: relative;z-index: 1;}#sk-container-id-2 div.sk-parallel {display: flex;align-items: stretch;justify-content: center;background-color: white;position: relative;}#sk-container-id-2 div.sk-item::before, #sk-container-id-2 div.sk-parallel-item::before {content: \"\";position: absolute;border-left: 1px solid gray;box-sizing: border-box;top: 0;bottom: 0;left: 50%;z-index: -1;}#sk-container-id-2 div.sk-parallel-item {display: flex;flex-direction: column;z-index: 1;position: relative;background-color: white;}#sk-container-id-2 div.sk-parallel-item:first-child::after {align-self: flex-end;width: 50%;}#sk-container-id-2 div.sk-parallel-item:last-child::after {align-self: flex-start;width: 50%;}#sk-container-id-2 div.sk-parallel-item:only-child::after {width: 0;}#sk-container-id-2 div.sk-dashed-wrapped {border: 1px dashed gray;margin: 0 0.4em 0.5em 0.4em;box-sizing: border-box;padding-bottom: 0.4em;background-color: white;}#sk-container-id-2 div.sk-label label {font-family: monospace;font-weight: bold;display: inline-block;line-height: 1.2em;}#sk-container-id-2 div.sk-label-container {text-align: center;}#sk-container-id-2 div.sk-container {/* jupyter's `normalize.less` sets `[hidden] { display: none; }` but bootstrap.min.css set `[hidden] { display: none !important; }` so we also need the `!important` here to be able to override the default hidden behavior on the sphinx rendered scikit-learn.org. See: https://github.com/scikit-learn/scikit-learn/issues/21755 */display: inline-block !important;position: relative;}#sk-container-id-2 div.sk-text-repr-fallback {display: none;}</style><div id=\"sk-container-id-2\" class=\"sk-top-container\"><div class=\"sk-text-repr-fallback\"><pre>SVC(random_state=42)</pre><b>In a Jupyter environment, please rerun this cell to show the HTML representation or trust the notebook. <br />On GitHub, the HTML representation is unable to render, please try loading this page with nbviewer.org.</b></div><div class=\"sk-container\" hidden><div class=\"sk-item\"><div class=\"sk-estimator sk-toggleable\"><input class=\"sk-toggleable__control sk-hidden--visually\" id=\"sk-estimator-id-2\" type=\"checkbox\" checked><label for=\"sk-estimator-id-2\" class=\"sk-toggleable__label sk-toggleable__label-arrow\">SVC</label><div class=\"sk-toggleable__content\"><pre>SVC(random_state=42)</pre></div></div></div></div></div>"
      ],
      "text/plain": [
       "SVC(random_state=42)"
      ]
     },
     "execution_count": 26,
     "metadata": {},
     "output_type": "execute_result"
    }
   ],
   "source": [
    "# Retrain model using most important features\n",
    "X_train_subset = X_train_scaled[most_important_features]\n",
    "\n",
    "svc_retrained = SVC(random_state=42)\n",
    "svc_retrained.fit(X_train_subset, y_train)"
   ]
  },
  {
   "cell_type": "code",
   "execution_count": 27,
   "metadata": {},
   "outputs": [
    {
     "name": "stdout",
     "output_type": "stream",
     "text": [
      "Original classifier accuracy: 0.8900\n",
      "Retrained classifier accuracy: 0.8800\n",
      "\n",
      "Confusion matrix from original model:\n",
      "[[37  0  1]\n",
      " [ 5 29  2]\n",
      " [ 3  0 23]]\n",
      "Confusion matrix from retrained model:\n",
      "[[37  1  0]\n",
      " [ 3 33  0]\n",
      " [ 7  1 18]]\n"
     ]
    }
   ],
   "source": [
    "# Compare retrained classifier with original classifier\n",
    "y_pred_original = svc.predict(X_test_scaled)\n",
    "y_pred_retrained = svc_retrained.predict(X_test_scaled[most_important_features])\n",
    "\n",
    "# Accuracy\n",
    "print(f'Original classifier accuracy: {accuracy_score(y_test, y_pred_original):.4f}')\n",
    "print(f'Retrained classifier accuracy: {accuracy_score(y_test, y_pred_retrained):.4f}')\n",
    "print()\n",
    "\n",
    "# Confusion matrix\n",
    "cm_original = confusion_matrix(y_test, y_pred_original, labels=[1,2,3])\n",
    "cm_retrained = confusion_matrix(y_test, y_pred_retrained, labels=[1,2,3])\n",
    "print(f'Confusion matrix from original model:\\n{cm_original}')\n",
    "print(f'Confusion matrix from retrained model:\\n{cm_retrained}')"
   ]
  },
  {
   "cell_type": "code",
   "execution_count": null,
   "metadata": {},
   "outputs": [],
   "source": []
  }
 ],
 "metadata": {
  "kernelspec": {
   "display_name": "cambridge",
   "language": "python",
   "name": "python3"
  },
  "language_info": {
   "codemirror_mode": {
    "name": "ipython",
    "version": 3
   },
   "file_extension": ".py",
   "mimetype": "text/x-python",
   "name": "python",
   "nbconvert_exporter": "python",
   "pygments_lexer": "ipython3",
   "version": "3.12.0"
  }
 },
 "nbformat": 4,
 "nbformat_minor": 2
}
